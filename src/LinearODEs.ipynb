{
 "cells": [
  {
   "cell_type": "markdown",
   "metadata": {},
   "source": [
    "# **Mathematical Modelling for Physiology**\n",
    "------\n",
    "# *Lecture #6 / Tutorial #2*\n",
    "## Ordinary Differential Equations (ODEs)\n",
    "------"
   ]
  },
  {
   "cell_type": "markdown",
   "metadata": {},
   "source": [
    "## Python stuff"
   ]
  },
  {
   "cell_type": "markdown",
   "metadata": {},
   "source": [
    "The libraries used:\n",
    "1. `numpy` - For vector math\n",
    "2. `matplotlib.pyplot` - For plotting\n",
    "3. `scipy` - For numerical integration"
   ]
  },
  {
   "cell_type": "code",
   "execution_count": 141,
   "metadata": {},
   "outputs": [],
   "source": [
    "import numpy as np\n",
    "import matplotlib.pyplot as plt\n",
    "from scipy.integrate import solve_ivp"
   ]
  },
  {
   "cell_type": "markdown",
   "metadata": {},
   "source": [
    "### Conveniences"
   ]
  },
  {
   "cell_type": "code",
   "execution_count": 82,
   "metadata": {},
   "outputs": [],
   "source": [
    "# For fancy plot manipulations\n",
    "from matplotlib.widgets import Slider, Button\n",
    "%matplotlib widget\n",
    "\n",
    "# For fancy plot fonts\n",
    "plt.rcParams.update({\n",
    "    \"text.usetex\": False,  # Use LaTeX for text rendering\n",
    "    \"font.family\": \"sans-serif\",  # Use a serif font\n",
    "    \"font.size\": 12,  # Adjust font size\n",
    "})"
   ]
  },
  {
   "cell_type": "code",
   "execution_count": 136,
   "metadata": {},
   "outputs": [],
   "source": [
    "# Plots 1 line\n",
    "def Line1Plotter(x, y, figsize, style, xlabel, ylabel, title):\n",
    "    plt.close('all')\n",
    "    fig, ax = plt.subplots(figsize=figsize)\n",
    "    ax.plot(x, y, style)\n",
    "    ax.set_xlabel(xlabel)\n",
    "    ax.set_ylabel(ylabel)\n",
    "    ax.set_title(title)\n",
    "    ax.grid(True, linestyle=\"--\", alpha=0.6)\n",
    "    # plt.tight_layout()\n",
    "\n",
    "# Plots N lines\n",
    "def LineNPlotter(data, figsize, styles, labels, xlabel, ylabel, title):\n",
    "    if len(\n",
    "        set(list(map(len, [data, styles, labels])))\n",
    "        ) == 1:\n",
    "        N_data = len(data)\n",
    "    else:\n",
    "        raise ValueError(\"The plot variables are not equal lengths.\")\n",
    "    plt.close('all')\n",
    "    fig, ax = plt.subplots(figsize=figsize)\n",
    "    for _ in range(N_data):\n",
    "        ax.plot(data[_][0], data[_][1], styles[_], label=labels[_])\n",
    "    ax.set_xlabel(xlabel)\n",
    "    ax.set_ylabel(ylabel)\n",
    "    ax.set_title(title)\n",
    "    ax.legend()\n",
    "    ax.grid(True, linestyle=\"--\", alpha=0.6)\n",
    "    # plt.tight_layout()"
   ]
  },
  {
   "cell_type": "code",
   "execution_count": 176,
   "metadata": {},
   "outputs": [],
   "source": [
    "# Plots 1 interactive line\n",
    "def InteractivePlotter(\n",
    "    t, xfunc,\n",
    "    params, paramlims, paramdels, paramlabels,\n",
    "    color, axlims, figsize, xlabel, ylabel, title\n",
    "    ):\n",
    "    plt.close('all')\n",
    "    fig, ax = plt.subplots(figsize=figsize)\n",
    "    if len(\n",
    "        set(list(map(len, [params, paramlims, paramdels, paramlabels])))\n",
    "        ) == 1:\n",
    "        N_params = len(params)\n",
    "    else:\n",
    "        raise ValueError(\"The parameter variables are not equal lengths.\")\n",
    "    plt.subplots_adjust(bottom=0.30)\n",
    "    l, = plt.plot(t, xfunc(t, *params), color=color)\n",
    "    plt.axis(axlims)\n",
    "    axeslist = []\n",
    "    sliders = []\n",
    "    bottoms = np.arange(0.1, 0.2, 0.1/N_params)\n",
    "    for _ in range(N_params):\n",
    "        axeslist.append(plt.axes([0.25, bottoms[_], 0.65, 0.01]))\n",
    "        sliders.append(\n",
    "            Slider(\n",
    "                axeslist[_], paramlabels[_],\n",
    "                paramlims[_][0], paramlims[_][1],\n",
    "                valinit=params[_], valstep=paramdels[_])\n",
    "        )\n",
    "    def update(val):\n",
    "        params_ = []\n",
    "        for _ in range(N_params):\n",
    "            params_.append(sliders[_].val)\n",
    "        l.set_ydata(xfunc(t, *params_))\n",
    "        fig.canvas.draw_idle()\n",
    "\n",
    "    for _ in range(N_params):\n",
    "        sliders[_].on_changed(update)\n",
    "\n",
    "    resetax = plt.axes([0.8, 0.025, 0.1, 0.04])\n",
    "    button = Button(resetax, 'Reset', color='Grey', hovercolor='0.7')\n",
    "    ax.set_xlabel(xlabel)\n",
    "    ax.set_ylabel(ylabel)\n",
    "    ax.set_title(title)\n",
    "    ax.grid(True, linestyle=\"--\", alpha=0.6)\n",
    "    def reset(event):\n",
    "        for _ in range(N_params):\n",
    "            sliders[_].reset()\n",
    "    button.on_clicked(reset)\n",
    "    plt.show()"
   ]
  },
  {
   "cell_type": "markdown",
   "metadata": {},
   "source": [
    "## (Linear) First-Order ODE"
   ]
  },
  {
   "cell_type": "markdown",
   "metadata": {},
   "source": [
    "The general form is given by:\n",
    "$$ \\frac{\\mathrm{d}x}{\\mathrm{d}t} + q(t)\\cdot x = p(t) $$\n",
    "\n",
    "The following are the cases we will be studying:\n",
    "\n",
    "1. $p(t) = 0$ - This corresponds to the homogenous linear ODE\n",
    "2. $p(t) = C$ where $C$ is a constant\n",
    "3. $p(t) = m t$ where $m$ is a constant\n",
    "4. $p(t) = A \\sin(\\omega t)$ where $A$ and $\\omega$ are constant\n",
    "\n",
    "For all cases we will be considering $q(t) = k$ for some constant $k$."
   ]
  },
  {
   "cell_type": "code",
   "execution_count": 268,
   "metadata": {},
   "outputs": [],
   "source": [
    "# q and p are callable functions\n",
    "def FirstODEGeneralEqn(x, t, q, p):\n",
    "    return -q(t) * x + p(t)\n",
    "\n",
    "def Constant(t, C):\n",
    "    return C\n",
    "\n",
    "def Homogenous(t):\n",
    "    return Constant(t, 0)\n",
    "\n",
    "def Linear(t, m):\n",
    "    return m*t\n",
    "\n",
    "def Sinusoid(t, A, omega):\n",
    "    return A*np.sin(omega*t)"
   ]
  },
  {
   "cell_type": "markdown",
   "metadata": {},
   "source": [
    "### Case 1: Homogeneous"
   ]
  },
  {
   "cell_type": "markdown",
   "metadata": {},
   "source": [
    "The equation is given by\n",
    "$$ \\frac{\\mathrm{d}x}{\\mathrm{d}t} + k\\cdot x = 0 $$\n",
    "\n",
    "The analytical solution for this given the initial condition $x(0) = x_0$ is:\n",
    "$$ x(t) = x_0 \\exp(-kt) $$"
   ]
  },
  {
   "cell_type": "code",
   "execution_count": 155,
   "metadata": {},
   "outputs": [],
   "source": [
    "k = 1.0\n",
    "def q1(t): return Constant(t, k)\n",
    "def p1(t): return Constant(t, 0)\n",
    "\n",
    "# the derivative\n",
    "def Equation1(t, x):\n",
    "    return FirstODEGeneralEqn(x, t, q1, p1)\n",
    "\n",
    "# the analytical solution\n",
    "def Solution1(t, k, x0):\n",
    "    return np.exp(-k*t)*x0"
   ]
  },
  {
   "cell_type": "code",
   "execution_count": 156,
   "metadata": {},
   "outputs": [],
   "source": [
    "# Calculating analytical solution\n",
    "tlims = (0, 10)\n",
    "Nt = 100\n",
    "t = np.linspace(*tlims, Nt)\n",
    "x0 = 2.0\n",
    "x1 = Solution1(t, k, x0)"
   ]
  },
  {
   "cell_type": "code",
   "execution_count": null,
   "metadata": {},
   "outputs": [],
   "source": [
    "# Plotting analytical solution\n",
    "plt.close(\"all\")\n",
    "fig, ax = plt.subplots(figsize=(8, 5))\n",
    "ax.plot(t, x1, color=\"blue\", label=\"Analytical\")\n",
    "ax.set_xlabel(r\"$t$\")\n",
    "ax.set_ylabel(r\"$x(t)$\")\n",
    "ax.set_title(\n",
    "    r\"(Analytical) Solution of First-Order Linear ODE with $q(t) = 0$\"\n",
    ")\n",
    "ax.grid(True, linestyle=\"--\", alpha=0.6)\n",
    "# ax.legend(fontsize=12);"
   ]
  },
  {
   "cell_type": "code",
   "execution_count": null,
   "metadata": {},
   "outputs": [],
   "source": [
    "# Concise plotting\n",
    "Line1Plotter(\n",
    "    t, x1, (8, 5), \"b-\",\n",
    "    r\"$t$\", r\"$x(t)$\",\n",
    "    r\"(Analytical) Solution of First-Order Linear ODE with $q(t) = 0$\"\n",
    ")"
   ]
  },
  {
   "cell_type": "code",
   "execution_count": null,
   "metadata": {},
   "outputs": [],
   "source": [
    "InteractivePlotter(\n",
    "    np.linspace(0, 10, 100), Solution2,\n",
    "    [1.0, 1.0], [(-1.0, 5.0), (-4.0, 10.0)], [0.5, 0.5], [r\"$k$\", r\"$x_0$\"],\n",
    "    \"blue\", [0, 10, -3, 3], (8, 5), r\"$t$\", r\"$x(t)$\",\n",
    "    r\"(Analytical) Solution of First-Order Linear ODE with $q(t) = 0$\"\n",
    ")"
   ]
  },
  {
   "cell_type": "markdown",
   "metadata": {},
   "source": [
    "#### Numerical Solution"
   ]
  },
  {
   "cell_type": "markdown",
   "metadata": {},
   "source": [
    "So far we have directly plotted the analytical solution, now we can try and solve the differential equation numerically using built-in methods from `scipy` and compare them with the analytical solution we obtained previously."
   ]
  },
  {
   "cell_type": "code",
   "execution_count": 158,
   "metadata": {},
   "outputs": [],
   "source": [
    "x1_ = solve_ivp(Equation1, tlims, [x0], t_eval=t)"
   ]
  },
  {
   "cell_type": "code",
   "execution_count": null,
   "metadata": {},
   "outputs": [],
   "source": [
    "LineNPlotter(\n",
    "    [\n",
    "        (t, x1),\n",
    "        (x1_.t, x1_.y[0])\n",
    "    ], (8, 5), [\"blue\", \"r--\"], [\"Analytical\", \"Numerical\"],\n",
    "    r\"$t$\", r\"$x(t)$\",\n",
    "    r\"(Analytical) Solution of First-Order Linear ODE with $q(t) = 0$\"\n",
    ")"
   ]
  },
  {
   "cell_type": "markdown",
   "metadata": {},
   "source": [
    "### Case 2: $p(t) = C$"
   ]
  },
  {
   "cell_type": "markdown",
   "metadata": {},
   "source": [
    "The equation is given by\n",
    "$$ \\frac{\\mathrm{d}x}{\\mathrm{d}t} + k\\cdot x = C $$\n",
    "\n",
    "The analytical solution for this given the initial condition $x(0) = x_0$ is:\n",
    "$$ x(t) = \\left(x_0 - \\frac{C}{k}\\right) \\exp(-kt)  + \\frac{C}{k}$$"
   ]
  },
  {
   "cell_type": "code",
   "execution_count": 160,
   "metadata": {},
   "outputs": [],
   "source": [
    "k = 1.0; C = 1.0\n",
    "def q2(t): return Constant(t, k)\n",
    "def p2(t): return Constant(t, C)\n",
    "\n",
    "# the derivative\n",
    "def Equation2(t, x):\n",
    "    return FirstODEGeneralEqn(x, t, q2, p2)\n",
    "\n",
    "# the analytical solution\n",
    "def Solution2(t, k, C, x0):\n",
    "    return np.exp(-k*t)*(x0 - C/k) + (C/k)"
   ]
  },
  {
   "cell_type": "code",
   "execution_count": 164,
   "metadata": {},
   "outputs": [],
   "source": [
    "# Calculating analytical solution\n",
    "tlims = (0, 10)\n",
    "Nt = 100\n",
    "t = np.linspace(*tlims, Nt)\n",
    "x0 = 2.0\n",
    "x2 = Solution2(t, k, C, x0)"
   ]
  },
  {
   "cell_type": "code",
   "execution_count": null,
   "metadata": {},
   "outputs": [],
   "source": [
    "Line1Plotter(\n",
    "    t, x2, (8, 5), \"b-\",\n",
    "    r\"$t$\", r\"$x(t)$\",\n",
    "    r\"(Analytical) Solution of First-Order Linear ODE with $q(t) = C$\"\n",
    ")"
   ]
  },
  {
   "cell_type": "code",
   "execution_count": null,
   "metadata": {},
   "outputs": [],
   "source": [
    "InteractivePlotter(\n",
    "    np.linspace(0, 10, 100), Solution2,\n",
    "    [1.0, 1.0, 1.0], [(-1.0, 5.0), (-1.0, 5.0), (-4.0, 10.0)], [0.5, 0.5, 0.5], [r\"$k$\", r\"$C$\", r\"$x_0$\"],\n",
    "    \"blue\", [0, 10, -3, 3], (8, 5), r\"$t$\", r\"$x(t)$\",\n",
    "    r\"(Analytical) Solution of First-Order Linear ODE with $q(t) = C$\"\n",
    ")"
   ]
  },
  {
   "cell_type": "markdown",
   "metadata": {},
   "source": [
    "#### Numerical Solution"
   ]
  },
  {
   "cell_type": "code",
   "execution_count": 177,
   "metadata": {},
   "outputs": [],
   "source": [
    "x2_ = solve_ivp(Equation2, tlims, [x0], t_eval=t)"
   ]
  },
  {
   "cell_type": "code",
   "execution_count": null,
   "metadata": {},
   "outputs": [],
   "source": [
    "LineNPlotter(\n",
    "    [\n",
    "        (t, x2),\n",
    "        (x2_.t, x2_.y[0])\n",
    "    ], (8, 5), [\"blue\", \"r-.\"], [\"Analytical\", \"Numerical\"],\n",
    "    r\"$t$\", r\"$x(t)$\",\n",
    "    r\"(Analytical) Solution of First-Order Linear ODE with $q(t) = C$\"\n",
    ")"
   ]
  },
  {
   "cell_type": "markdown",
   "metadata": {},
   "source": [
    "### Case 3: $p(t) = m t$"
   ]
  },
  {
   "cell_type": "markdown",
   "metadata": {},
   "source": [
    "The equation is given by\n",
    "$$ \\frac{\\mathrm{d}x}{\\mathrm{d}t} + k\\cdot x = mt $$\n",
    "\n",
    "The analytical solution for this given the initial condition $x(0) = x_0$ is:\n",
    "$$ x(t) = \\left(x_0 + \\frac{m}{k^2}\\right) \\exp(-kt)  + \\frac{m}{k}(t - 1)$$"
   ]
  },
  {
   "cell_type": "code",
   "execution_count": 183,
   "metadata": {},
   "outputs": [],
   "source": [
    "k = 1.0; m = 1.0\n",
    "def q3(t): return Constant(t, k)\n",
    "def p3(t): return Linear(t, m)\n",
    "\n",
    "# the derivative\n",
    "def Equation3(t, x):\n",
    "    return FirstODEGeneralEqn(x, t, q3, p3)\n",
    "\n",
    "# the analytical solution\n",
    "def Solution3(t, k, m, x0):\n",
    "    return np.exp(-k*t)*(x0 + m/(k**2)) + (m/k)*(t-1)"
   ]
  },
  {
   "cell_type": "code",
   "execution_count": 186,
   "metadata": {},
   "outputs": [],
   "source": [
    "# Calculating analytical solution\n",
    "tlims = (0, 10)\n",
    "Nt = 100\n",
    "t = np.linspace(*tlims, Nt)\n",
    "x0 = 2.0\n",
    "x3 = Solution3(t, k, m, x0)"
   ]
  },
  {
   "cell_type": "code",
   "execution_count": null,
   "metadata": {},
   "outputs": [],
   "source": [
    "Line1Plotter(\n",
    "    t, x3, (8, 5), \"b-\",\n",
    "    r\"$t$\", r\"$x(t)$\",\n",
    "    r\"(Analytical) Solution of First-Order Linear ODE with $q(t) = mt$\"\n",
    ")"
   ]
  },
  {
   "cell_type": "code",
   "execution_count": null,
   "metadata": {},
   "outputs": [],
   "source": [
    "# JUST DO IT\n",
    "x3_ = Solution3(t, k*2.8, m*2.75, x0*1.3)\n",
    "plt.close(\"all\")\n",
    "fig, ax = plt.subplots(figsize=(8, 5))\n",
    "ax.fill_between(t, x3, x3_, color=\"black\")\n",
    "\n",
    "ax.set_title(\n",
    "    r\"Just Do It\"\n",
    ")\n",
    "ax.set_xlim(0, 6)\n",
    "ax.set_ylim(0, 6)\n",
    "plt.xticks([])\n",
    "plt.yticks([])\n",
    "plt.gca().spines['top'].set_visible(False)\n",
    "plt.gca().spines['right'].set_visible(False)\n",
    "plt.gca().spines['bottom'].set_visible(False)\n",
    "plt.gca().spines['left'].set_visible(False)"
   ]
  },
  {
   "cell_type": "code",
   "execution_count": null,
   "metadata": {},
   "outputs": [],
   "source": [
    "InteractivePlotter(\n",
    "    np.linspace(0, 10, 100), Solution3,\n",
    "    [1.0, 1.0, 1.0], [(-1.0, 5.0), (-1.0, 5.0), (-4.0, 10.0)], [0.5, 0.5, 0.5], [r\"$k$\", r\"$m$\", r\"$x_0$\"],\n",
    "    \"blue\", [0, 10, 0, 6], (8, 5), r\"$t$\", r\"$x(t)$\",\n",
    "    r\"(Analytical) Solution of First-Order Linear ODE with $q(t) = mt$\"\n",
    ")"
   ]
  },
  {
   "cell_type": "markdown",
   "metadata": {},
   "source": [
    "#### Numerical Solution"
   ]
  },
  {
   "cell_type": "code",
   "execution_count": 227,
   "metadata": {},
   "outputs": [],
   "source": [
    "x3_ = solve_ivp(Equation3, tlims, [x0], t_eval=t)"
   ]
  },
  {
   "cell_type": "code",
   "execution_count": null,
   "metadata": {},
   "outputs": [],
   "source": [
    "LineNPlotter(\n",
    "    [\n",
    "        (t, x3),\n",
    "        (x3_.t, x3_.y[0])\n",
    "    ], (8, 5), [\"blue\", \"r-.\"], [\"Analytical\", \"Numerical\"],\n",
    "    r\"$t$\", r\"$x(t)$\",\n",
    "    r\"(Analytical) Solution of First-Order Linear ODE with $q(t) = mt$\"\n",
    ")"
   ]
  },
  {
   "cell_type": "markdown",
   "metadata": {},
   "source": [
    "### Case 4: $p(t) = A \\sin(\\omega t)$"
   ]
  },
  {
   "cell_type": "markdown",
   "metadata": {},
   "source": [
    "The equation is given by\n",
    "$$ \\frac{\\mathrm{d}x}{\\mathrm{d}t} + k\\cdot x = A \\sin(\\omega t)$$\n",
    "\n",
    "The analytical solution for this given the initial condition $x(0) = x_0$ is:\n",
    "$$ x(t) = \\left(x_0 + \\frac{A \\omega}{k^2 + \\omega^2}\\right) \\exp(-kt)  + \\frac{A}{k^2 + \\omega^2}(k \\sin(\\omega t) - \\omega \\cos(\\omega t))$$"
   ]
  },
  {
   "cell_type": "code",
   "execution_count": 258,
   "metadata": {},
   "outputs": [],
   "source": [
    "k = 0.5; A = 0.5; omega = 2.0\n",
    "def q4(t): return Constant(t, k)\n",
    "def p4(t): return Sinusoid(t, A, omega)\n",
    "\n",
    "# the derivative\n",
    "def Equation4(t, x):\n",
    "    return FirstODEGeneralEqn(x, t, q4, p4)\n",
    "\n",
    "# the analytical solution\n",
    "def Solution4(t, k, A, omega, x0):\n",
    "    return np.exp(-k*t)*(x0 + (A*omega)/(k**2 + omega**2)) + \\\n",
    "        (A/(k**2 + omega**2))*(k*np.sin(omega*t)-omega*np.cos(omega*t))"
   ]
  },
  {
   "cell_type": "code",
   "execution_count": 259,
   "metadata": {},
   "outputs": [],
   "source": [
    "# Calculating analytical solution\n",
    "tlims = (0, 20)\n",
    "Nt = 100\n",
    "t = np.linspace(*tlims, Nt)\n",
    "x0 = 2.0\n",
    "x4 = Solution4(t, k, A, omega, x0)"
   ]
  },
  {
   "cell_type": "code",
   "execution_count": null,
   "metadata": {},
   "outputs": [],
   "source": [
    "Line1Plotter(\n",
    "    t, x4, (8, 5), \"b-\",\n",
    "    r\"$t$\", r\"$x(t)$\",\n",
    "    r\"(Analytical) Solution of First-Order Linear ODE with $q(t) = A \\sin(\\omega t)$\"\n",
    ")"
   ]
  },
  {
   "cell_type": "code",
   "execution_count": null,
   "metadata": {},
   "outputs": [],
   "source": [
    "InteractivePlotter(\n",
    "    np.linspace(0, 20, 200), Solution4,\n",
    "    [0.5, 0.5, 2.0, 2.0], [(-1.0, 5.0), (0.0, 2.0), (0.5, 5.5), (-4.0, 10.0)],\n",
    "    [0.5, 0.1, 0.5, 0.5], [r\"$k$\", r\"$A$\", r\"$\\omega$\", r\"$x_0$\"],\n",
    "    \"blue\", [0, 20, -2, 6], (8, 5), r\"$t$\", r\"$x(t)$\",\n",
    "    r\"(Analytical) Solution of First-Order Linear ODE with $q(t) = A\\sin(\\omega t)$\"\n",
    ")"
   ]
  },
  {
   "cell_type": "markdown",
   "metadata": {},
   "source": [
    "#### Numerical Solution"
   ]
  },
  {
   "cell_type": "code",
   "execution_count": 265,
   "metadata": {},
   "outputs": [],
   "source": [
    "x4_ = solve_ivp(Equation4, tlims, [x0], t_eval=t)"
   ]
  },
  {
   "cell_type": "code",
   "execution_count": null,
   "metadata": {},
   "outputs": [],
   "source": [
    "LineNPlotter(\n",
    "    [\n",
    "        (t, x4),\n",
    "        (x4_.t, x4_.y[0])\n",
    "    ], (8, 5), [\"blue\", \"r-.\"], [\"Analytical\", \"Numerical\"],\n",
    "    r\"$t$\", r\"$x(t)$\",\n",
    "    r\"(Analytical) Solution of First-Order Linear ODE with $q(t) = A\\sin(\\omega t)$\"\n",
    ")"
   ]
  },
  {
   "cell_type": "markdown",
   "metadata": {},
   "source": [
    "## (Linear) Second-Order ODE"
   ]
  },
  {
   "cell_type": "markdown",
   "metadata": {},
   "source": [
    "The general form is given by:\n",
    "$$ \\frac{\\mathrm{d}^2 x}{\\mathrm{d}t^2} + s(t)\\cdot\\frac{\\mathrm{d}x}{\\mathrm{d}t} + u(t)\\cdot x = w(t) $$\n",
    "\n",
    "We will be studying the special case of homogenous equation ($w(t) = 0$), with the coefficients constants i.e. $s(t) = S$, $u(t) = U$ for some constants $S$ and $U$. Therefore the equation becomes:\n",
    "\n",
    "$$ \\frac{\\mathrm{d}^2 x}{\\mathrm{d}t^2} + S\\frac{\\mathrm{d}x}{\\mathrm{d}t} + U x = 0 $$\n",
    "\n",
    "Consider some $x(t) = \\exp(\\lambda t)$. Plugging this into the equation above gives:\n",
    "\n",
    "$$ \\lambda^2 + S \\lambda + U = 0 $$\n",
    "\n",
    "Solving this quadratic equation for $r$ gives us\n",
    "\n",
    "$$ \\lambda = \\frac{-S \\pm \\sqrt{S^2 -4U}}{2}$$\n",
    "\n",
    "This gives us the following cases based on the sign of $D = S^2 - 4U$:\n",
    "1. $D > 0 \\implies$ Real and distinct $\\lambda$'s: $\\lambda_1, \\lambda_2 \\in \\mathbb{R}$\n",
    "2. $D = 0 \\implies$ Real and equal $\\lambda$'s: $\\lambda_3 \\in \\mathbb{R}$\n",
    "4. $D < 0 \\implies$ Imaginary and conjugate pair $\\lambda$'s: $\\lambda_4, \\lambda_5 \\in \\mathbb{C}$ such that $\\bar{\\lambda}_4 = \\lambda_5$\n",
    "\n",
    "The three cases correspond to three different class of solutions"
   ]
  },
  {
   "cell_type": "code",
   "execution_count": 267,
   "metadata": {},
   "outputs": [],
   "source": [
    "# s, u, and w are callable functions\n",
    "def SecondODEGeneralEqn(x, xd, t, s, u, w):\n",
    "    return -s(t)*xd -u(t) * x + w(t)"
   ]
  },
  {
   "cell_type": "markdown",
   "metadata": {},
   "source": [
    "### Case 1: $S^2 - 4U > 0$"
   ]
  },
  {
   "cell_type": "markdown",
   "metadata": {},
   "source": [
    "For an initial condition $(x(0), \\dot{x}(0))=(x_0, v_0)$, and $\\lambda = \\lambda_1, \\lambda_2 \\in \\mathbb{R}$, the analytical solution for this case is given by\n",
    "\n",
    "$$ x(t) = \\left( \\frac{v_0 - \\lambda_2 x_0}{\\lambda_1 - \\lambda_2} \\right)\\exp(\\lambda_1 t) + \\left( \\frac{\\lambda_1 x_0 - v_0}{\\lambda_1 - \\lambda_2} \\right)\\exp(\\lambda_2 t)$$"
   ]
  },
  {
   "cell_type": "code",
   "execution_count": null,
   "metadata": {},
   "outputs": [],
   "source": [
    "S = 3.0; U = 1.0; W = 0.0\n",
    "l1, l2 = (-S + np.sqrt(S**2 - 4*U))/2, (-S - np.sqrt(S**2 - 4*U))/2\n",
    "\n",
    "print(f\"l1={l1}, l2={l2}\")\n",
    "\n",
    "def s1(t): return Constant(t, S)\n",
    "def u1(t): return Constant(t, U)\n",
    "def w1(t): return Constant(t, W)\n",
    "\n",
    "# the derivative\n",
    "\n",
    "def SEquation1(t, X):\n",
    "    return SecondODEGeneralEqn(X[0], X[1], t, s1, u1, w1)\n",
    "\n",
    "# the analytical solution\n",
    "def SSolution1(t, l1, l2, x0, v0):\n",
    "    return np.exp(l1*t)*((v0 - l2*x0)/(l1 - l2)) + \\\n",
    "        np.exp(l2*t)*((l1*x0 - v0)/(l1 - l2))\n",
    "\n",
    "def SSolution1_(t, S, U, x0, v0):\n",
    "    l1, l2 = (-S + np.sqrt(S**2 - 4*U))/2, (-S - np.sqrt(S**2 - 4*U))/2\n",
    "    return np.exp(l1*t)*((v0 - l2*x0)/(l1 - l2)) + \\\n",
    "        np.exp(l2*t)*((l1*x0 - v0)/(l1 - l2))"
   ]
  },
  {
   "cell_type": "code",
   "execution_count": 308,
   "metadata": {},
   "outputs": [],
   "source": [
    "# Calculating analytical solution\n",
    "tlims = (0, 10)\n",
    "Nt = 100\n",
    "t = np.linspace(*tlims, Nt)\n",
    "x0 = 2.0; v0 = 1.0\n",
    "x5 = SSolution1_(t, S, U, x0, v0)"
   ]
  },
  {
   "cell_type": "code",
   "execution_count": null,
   "metadata": {},
   "outputs": [],
   "source": [
    "# Concise plotting\n",
    "Line1Plotter(\n",
    "    t, x5, (8, 5), \"b-\",\n",
    "    r\"$t$\", r\"$x(t)$\",\n",
    "    r\"(Analytical) Solution of Second-Order Linear ODE with $D > 0$\"\n",
    ")"
   ]
  },
  {
   "cell_type": "code",
   "execution_count": null,
   "metadata": {},
   "outputs": [],
   "source": [
    "InteractivePlotter(\n",
    "    np.linspace(0, 10, 100), SSolution1,\n",
    "    [l1, l2, 1.0, 1.0], #l1, l2, x0, v0\n",
    "    [(-2.0, 2.0), (-3.0, 2.0), (-2.0, 5.0), (-2.0, 5.0)],\n",
    "    [0.2, 0.2, 0.5, 0.5],\n",
    "    [r\"$\\lambda_1$\", r\"$\\lambda_2$\", r\"$x_0$\", r\"$v_0$\"],\n",
    "    \"blue\", [0, 10, -1, 5], (8, 5), r\"$t$\", r\"$x(t)$\",\n",
    "    r\"(Analytical) Solution of Second-Order Linear ODE with $D > 0$\"\n",
    ")"
   ]
  },
  {
   "cell_type": "markdown",
   "metadata": {},
   "source": [
    "### Case 1: $S^2 - 4U = 0$"
   ]
  },
  {
   "cell_type": "markdown",
   "metadata": {},
   "source": [
    "For an initial condition $(x(0), \\dot{x}(0))=(x_0, v_0)$, and $\\lambda = \\lambda_3 \\in \\mathbb{R}$, the analytical solution for this case is given by\n",
    "\n",
    "$$ x(t) = x_0 \\exp(\\lambda_3 t) + (v_0 - \\lambda_3 x_0) t \\exp(\\lambda_3 t)$$"
   ]
  },
  {
   "cell_type": "code",
   "execution_count": null,
   "metadata": {},
   "outputs": [],
   "source": [
    "S = 4.0; U = 4.0; W = 0.0\n",
    "l1, l2 = (-S + np.sqrt(S**2 - 4*U))/2, (-S - np.sqrt(S**2 - 4*U))/2\n",
    "if l1 == l2:\n",
    "    l3 = l1\n",
    "\n",
    "print(f\"l1={l1}, l2={l2}\")\n",
    "\n",
    "def s2(t): return Constant(t, S)\n",
    "def u2(t): return Constant(t, U)\n",
    "def w2(t): return Constant(t, W)\n",
    "\n",
    "# the derivative\n",
    "\n",
    "def SEquation2(t, X):\n",
    "    return SecondODEGeneralEqn(X[0], X[1], t, s2, u2, w2)\n",
    "\n",
    "# the analytical solution\n",
    "def SSolution2(t, l3, x0, v0):\n",
    "    return np.exp(l3*t)*x0 + (v0 - l3*x0)*t*np.exp(l3*t)\n",
    "\n",
    "def SSolution2_(t, S, U, x0, v0):\n",
    "    l3 = -S/2\n",
    "    return np.exp(l3*t)*x0 + (v0 - l3*x0)*t*np.exp(l3*t)"
   ]
  },
  {
   "cell_type": "code",
   "execution_count": 333,
   "metadata": {},
   "outputs": [],
   "source": [
    "# Calculating analytical solution\n",
    "tlims = (0, 10)\n",
    "Nt = 400\n",
    "t = np.linspace(*tlims, Nt)\n",
    "x0 = 2.0; v0 = 1.0\n",
    "x6 = SSolution2_(t, S, U, x0, v0)"
   ]
  },
  {
   "cell_type": "code",
   "execution_count": null,
   "metadata": {},
   "outputs": [],
   "source": [
    "Line1Plotter(\n",
    "    t, x6, (8, 5), \"b-\",\n",
    "    r\"$t$\", r\"$x(t)$\",\n",
    "    r\"(Analytical) Solution of Second-Order Linear ODE with $D = 0$\"\n",
    ")"
   ]
  },
  {
   "cell_type": "code",
   "execution_count": null,
   "metadata": {},
   "outputs": [],
   "source": [
    "InteractivePlotter(\n",
    "    np.linspace(0, 10, 100), SSolution2,\n",
    "    [l3, 1.0, 1.0], #l1, l2, x0, v0\n",
    "    [(-3.0, 2.0), (-2.0, 5.0), (-2.0, 5.0)],\n",
    "    [0.2, 0.5, 0.5],\n",
    "    [r\"$\\lambda_3$\", r\"$x_0$\", r\"$v_0$\"],\n",
    "    \"blue\", [0, 10, -1, 5], (8, 5), r\"$t$\", r\"$x(t)$\",\n",
    "    r\"(Analytical) Solution of Second-Order Linear ODE with $D = 0$\"\n",
    ")"
   ]
  },
  {
   "cell_type": "markdown",
   "metadata": {},
   "source": [
    "### Case 1: $S^2 - 4U < 0$"
   ]
  },
  {
   "cell_type": "markdown",
   "metadata": {},
   "source": [
    "For an initial condition $(x(0), \\dot{x}(0))=(x_0, v_0)$, and $\\lambda = \\lambda_4, \\lambda_5 \\in \\mathbb{C}$, the analytical solution for this case is given by\n",
    "\n",
    "$$ x(t) = \\exp(R t) \\left( x_0 \\cos(I t) + \\left[\\frac{v_0 - R x_0}{I}\\right] \\sin(I t) \\right) $$\n",
    "where $R = \\mathrm{Re}[\\lambda]$ and $I = \\mathrm{Im}[\\lambda]$"
   ]
  },
  {
   "cell_type": "code",
   "execution_count": null,
   "metadata": {},
   "outputs": [],
   "source": [
    "S = 2.0\n",
    "U = 4.0\n",
    "W = 0.0\n",
    "l4, l5 = (-S + np.sqrt(complex(S**2 - 4*U)))/2, (-S - np.sqrt(complex(S**2 - 4*U)))/2\n",
    "if l4 == np.conjugate(l5):\n",
    "    R = l4.real\n",
    "    I = l4.imag\n",
    "\n",
    "print(f\"l4={l4}, l5={l5}\")\n",
    "\n",
    "def s3(t): return Constant(t, S)\n",
    "def u3(t): return Constant(t, U)\n",
    "def w3(t): return Constant(t, W)\n",
    "\n",
    "# the derivative\n",
    "def SEquation3(t, X):\n",
    "    return SecondODEGeneralEqn(X[0], X[1], t, s3, u3, w3)\n",
    "\n",
    "# the analytical solution\n",
    "def SSolution3(t, l4, l5, x0, v0):\n",
    "    R, I = l4.real, l4.imag\n",
    "    return np.exp(R*t)*(x0*np.cos(I*t) + ((v0-R*x0)/I)*np.sin(I*t))\n",
    "def SSolution3_(t, R, I, x0, v0):\n",
    "    return np.exp(R*t)*(x0*np.cos(I*t) + ((v0-R*x0)/I)*np.sin(I*t))"
   ]
  },
  {
   "cell_type": "code",
   "execution_count": 336,
   "metadata": {},
   "outputs": [],
   "source": [
    "# Calculating analytical solution\n",
    "tlims = (0, 10)\n",
    "Nt = 400\n",
    "t = np.linspace(*tlims, Nt)\n",
    "x0 = 2.0\n",
    "v0 = 1.0\n",
    "x7 = SSolution3(t, l4, l5, x0, v0)"
   ]
  },
  {
   "cell_type": "code",
   "execution_count": null,
   "metadata": {},
   "outputs": [],
   "source": [
    "Line1Plotter(\n",
    "    t, x7, (8, 5), \"b-\",\n",
    "    r\"$t$\", r\"$x(t)$\",\n",
    "    r\"(Analytical) Solution of Second-Order Linear ODE with $D < 0$\"\n",
    ")"
   ]
  },
  {
   "cell_type": "code",
   "execution_count": null,
   "metadata": {},
   "outputs": [],
   "source": [
    "InteractivePlotter(\n",
    "    np.linspace(0, 10, 100), SSolution3_,\n",
    "    [R, I, 1.0, 1.0],  # l1, l2, x0, v0\n",
    "    [(-3.0, 2.0), (-3.0, 2.0), (-2.0, 5.0), (-2.0, 5.0)],\n",
    "    [0.2, 0.2, 0.5, 0.5],\n",
    "    [r\"$\\mathrm{Re}[\\lambda]$\", r\"$\\mathrm{Im}[\\lambda]$\", r\"$x_0$\", r\"$v_0$\"],\n",
    "    \"blue\", [0, 10, -3, 5], (8, 5), r\"$t$\", r\"$x(t)$\",\n",
    "    r\"(Analytical) Solution of Second-Order Linear ODE with $D < 0$\"\n",
    ")"
   ]
  }
 ],
 "metadata": {
  "kernelspec": {
   "display_name": "Python 3",
   "language": "python",
   "name": "python3"
  },
  "language_info": {
   "codemirror_mode": {
    "name": "ipython",
    "version": 3
   },
   "file_extension": ".py",
   "mimetype": "text/x-python",
   "name": "python",
   "nbconvert_exporter": "python",
   "pygments_lexer": "ipython3",
   "version": "3.13.1"
  }
 },
 "nbformat": 4,
 "nbformat_minor": 2
}
