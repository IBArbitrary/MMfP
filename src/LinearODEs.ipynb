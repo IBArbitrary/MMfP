{
 "cells": [
  {
   "cell_type": "markdown",
   "metadata": {},
   "source": [
    "# **Mathematical Modelling for Physiology**\n",
    "------\n",
    "# *Lecture #6 / Tutorial #2*\n",
    "## Ordinary Differential Equations (ODEs)\n",
    "------"
   ]
  },
  {
   "cell_type": "markdown",
   "metadata": {},
   "source": [
    "## Python stuff"
   ]
  },
  {
   "cell_type": "markdown",
   "metadata": {},
   "source": [
    "The libraries used:\n",
    "1. `numpy` - For vector math\n",
    "2. `matplotlib.pyplot` - For plotting\n",
    "3. `scipy` - For numerical integration"
   ]
  },
  {
   "cell_type": "code",
   "execution_count": 141,
   "metadata": {},
   "outputs": [],
   "source": [
    "import numpy as np\n",
    "import matplotlib.pyplot as plt\n",
    "from scipy.integrate import solve_ivp"
   ]
  },
  {
   "cell_type": "markdown",
   "metadata": {},
   "source": [
    "### Conveniences"
   ]
  },
  {
   "cell_type": "code",
   "execution_count": 82,
   "metadata": {},
   "outputs": [],
   "source": [
    "# For fancy plot manipulations\n",
    "from matplotlib.widgets import Slider, Button\n",
    "%matplotlib widget\n",
    "\n",
    "# For fancy plot fonts\n",
    "plt.rcParams.update({\n",
    "    \"text.usetex\": False,  # Use LaTeX for text rendering\n",
    "    \"font.family\": \"sans-serif\",  # Use a serif font\n",
    "    \"font.size\": 12,  # Adjust font size\n",
    "})"
   ]
  },
  {
   "cell_type": "code",
   "execution_count": 136,
   "metadata": {},
   "outputs": [],
   "source": [
    "# Plots 1 line\n",
    "def Line1Plotter(x, y, figsize, style, xlabel, ylabel, title):\n",
    "    plt.close('all')\n",
    "    fig, ax = plt.subplots(figsize=figsize)\n",
    "    ax.plot(x, y, style)\n",
    "    ax.set_xlabel(xlabel)\n",
    "    ax.set_ylabel(ylabel)\n",
    "    ax.set_title(title)\n",
    "    ax.grid(True, linestyle=\"--\", alpha=0.6)\n",
    "    # plt.tight_layout()\n",
    "\n",
    "# Plots N lines\n",
    "def LineNPlotter(data, figsize, styles, labels, xlabel, ylabel, title):\n",
    "    if len(\n",
    "        set(list(map(len, [data, styles, labels])))\n",
    "        ) == 1:\n",
    "        N_data = len(data)\n",
    "    else:\n",
    "        raise ValueError(\"The plot variables are not equal lengths.\")\n",
    "    plt.close('all')\n",
    "    fig, ax = plt.subplots(figsize=figsize)\n",
    "    for _ in range(N_data):\n",
    "        ax.plot(data[_][0], data[_][1], styles[_], label=labels[_])\n",
    "    ax.set_xlabel(xlabel)\n",
    "    ax.set_ylabel(ylabel)\n",
    "    ax.set_title(title)\n",
    "    ax.legend()\n",
    "    ax.grid(True, linestyle=\"--\", alpha=0.6)\n",
    "    # plt.tight_layout()"
   ]
  },
  {
   "cell_type": "code",
   "execution_count": 176,
   "metadata": {},
   "outputs": [],
   "source": [
    "# Plots 1 interactive line\n",
    "def InteractivePlotter(\n",
    "    t, xfunc,\n",
    "    params, paramlims, paramdels, paramlabels,\n",
    "    color, axlims, figsize, xlabel, ylabel, title\n",
    "    ):\n",
    "    plt.close('all')\n",
    "    fig, ax = plt.subplots(figsize=figsize)\n",
    "    if len(\n",
    "        set(list(map(len, [params, paramlims, paramdels, paramlabels])))\n",
    "        ) == 1:\n",
    "        N_params = len(params)\n",
    "    else:\n",
    "        raise ValueError(\"The parameter variables are not equal lengths.\")\n",
    "    plt.subplots_adjust(bottom=0.30)\n",
    "    l, = plt.plot(t, xfunc(t, *params), color=color)\n",
    "    plt.axis(axlims)\n",
    "    axeslist = []\n",
    "    sliders = []\n",
    "    bottoms = np.arange(0.1, 0.2, 0.1/N_params)\n",
    "    for _ in range(N_params):\n",
    "        axeslist.append(plt.axes([0.25, bottoms[_], 0.65, 0.01]))\n",
    "        sliders.append(\n",
    "            Slider(\n",
    "                axeslist[_], paramlabels[_],\n",
    "                paramlims[_][0], paramlims[_][1],\n",
    "                valinit=params[_], valstep=paramdels[_])\n",
    "        )\n",
    "    def update(val):\n",
    "        params_ = []\n",
    "        for _ in range(N_params):\n",
    "            params_.append(sliders[_].val)\n",
    "        l.set_ydata(xfunc(t, *params_))\n",
    "        fig.canvas.draw_idle()\n",
    "\n",
    "    for _ in range(N_params):\n",
    "        sliders[_].on_changed(update)\n",
    "\n",
    "    resetax = plt.axes([0.8, 0.025, 0.1, 0.04])\n",
    "    button = Button(resetax, 'Reset', color='Grey', hovercolor='0.7')\n",
    "    ax.set_xlabel(xlabel)\n",
    "    ax.set_ylabel(ylabel)\n",
    "    ax.set_title(title)\n",
    "    ax.grid(True, linestyle=\"--\", alpha=0.6)\n",
    "    def reset(event):\n",
    "        for _ in range(N_params):\n",
    "            sliders[_].reset()\n",
    "    button.on_clicked(reset)\n",
    "    plt.show()"
   ]
  },
  {
   "cell_type": "markdown",
   "metadata": {},
   "source": [
    "## (Linear) First-Order ODE"
   ]
  },
  {
   "cell_type": "markdown",
   "metadata": {},
   "source": [
    "The general form is given by:\n",
    "$$ \\frac{\\mathrm{d}x}{\\mathrm{d}t} + q(t)\\cdot x = p(t) $$\n",
    "\n",
    "The following are the cases we will be studying:\n",
    "\n",
    "1. $p(t) = 0$ - This corresponds to the homogenous linear ODE\n",
    "2. $p(t) = C$ where $C$ is a constant\n",
    "3. $p(t) = m t$ where $m$ is a constant\n",
    "4. $p(t) = A \\sin(\\omega t)$ where $A$ and $\\omega$ are constant\n",
    "\n",
    "For all cases we will be considering $q(t) = k$ for some constant $k$."
   ]
  },
  {
   "cell_type": "code",
   "execution_count": 268,
   "metadata": {},
   "outputs": [],
   "source": [
    "# q and p are callable functions\n",
    "def FirstODEGeneralEqn(x, t, q, p):\n",
    "    return -q(t) * x + p(t)\n",
    "\n",
    "def Constant(t, C):\n",
    "    return C\n",
    "\n",
    "def Homogenous(t):\n",
    "    return Constant(t, 0)\n",
    "\n",
    "def Linear(t, m):\n",
    "    return m*t\n",
    "\n",
    "def Sinusoid(t, A, omega):\n",
    "    return A*np.sin(omega*t)"
   ]
  },
  {
   "cell_type": "markdown",
   "metadata": {},
   "source": [
    "### Case 1: Homogeneous"
   ]
  },
  {
   "cell_type": "markdown",
   "metadata": {},
   "source": [
    "The equation is given by\n",
    "$$ \\frac{\\mathrm{d}x}{\\mathrm{d}t} + k\\cdot x = 0 $$\n",
    "\n",
    "The analytical solution for this given the initial condition $x(0) = x_0$ is:\n",
    "$$ x(t) = x_0 \\exp(-kt) $$"
   ]
  },
  {
   "cell_type": "code",
   "execution_count": 155,
   "metadata": {},
   "outputs": [],
   "source": [
    "k = 1.0\n",
    "def q1(t): return Constant(t, k)\n",
    "def p1(t): return Constant(t, 0)\n",
    "\n",
    "# the derivative\n",
    "def Equation1(t, x):\n",
    "    return FirstODEGeneralEqn(x, t, q1, p1)\n",
    "\n",
    "# the analytical solution\n",
    "def Solution1(t, k, x0):\n",
    "    return np.exp(-k*t)*x0"
   ]
  },
  {
   "cell_type": "code",
   "execution_count": 156,
   "metadata": {},
   "outputs": [],
   "source": [
    "# Calculating analytical solution\n",
    "tlims = (0, 10)\n",
    "Nt = 100\n",
    "t = np.linspace(*tlims, Nt)\n",
    "x0 = 2.0\n",
    "x1 = Solution1(t, k, x0)"
   ]
  },
  {
   "cell_type": "code",
   "execution_count": null,
   "metadata": {},
   "outputs": [],
   "source": [
    "# Plotting analytical solution\n",
    "plt.close(\"all\")\n",
    "fig, ax = plt.subplots(figsize=(8, 5))\n",
    "ax.plot(t, x1, color=\"blue\", label=\"Analytical\")\n",
    "ax.set_xlabel(r\"$t$\")\n",
    "ax.set_ylabel(r\"$x(t)$\")\n",
    "ax.set_title(\n",
    "    r\"(Analytical) Solution of First-Order Linear ODE with $q(t) = 0$\"\n",
    ")\n",
    "ax.grid(True, linestyle=\"--\", alpha=0.6)\n",
    "# ax.legend(fontsize=12);"
   ]
  },
  {
   "cell_type": "code",
   "execution_count": null,
   "metadata": {},
   "outputs": [],
   "source": [
    "# Concise plotting\n",
    "Line1Plotter(\n",
    "    t, x1, (8, 5), \"b-\",\n",
    "    r\"$t$\", r\"$x(t)$\",\n",
    "    r\"(Analytical) Solution of First-Order Linear ODE with $q(t) = 0$\"\n",
    ")"
   ]
  },
  {
   "cell_type": "code",
   "execution_count": null,
   "metadata": {},
   "outputs": [],
   "source": [
    "InteractivePlotter(\n",
    "    np.linspace(0, 10, 100), Solution2,\n",
    "    [1.0, 1.0], [(-1.0, 5.0), (-4.0, 10.0)], [0.5, 0.5], [r\"$k$\", r\"$x_0$\"],\n",
    "    \"blue\", [0, 10, -3, 3], (8, 5), r\"$t$\", r\"$x(t)$\",\n",
    "    r\"(Analytical) Solution of First-Order Linear ODE with $q(t) = 0$\"\n",
    ")"
   ]
  },
  {
   "cell_type": "markdown",
   "metadata": {},
   "source": [
    "#### Numerical Solution"
   ]
  },
  {
   "cell_type": "markdown",
   "metadata": {},
   "source": [
    "So far we have directly plotted the analytical solution, now we can try and solve the differential equation numerically using built-in methods from `scipy` and compare them with the analytical solution we obtained previously."
   ]
  },
  {
   "cell_type": "code",
   "execution_count": 158,
   "metadata": {},
   "outputs": [],
   "source": [
    "x1_ = solve_ivp(Equation1, tlims, [x0], t_eval=t)"
   ]
  },
  {
   "cell_type": "code",
   "execution_count": null,
   "metadata": {},
   "outputs": [],
   "source": [
    "LineNPlotter(\n",
    "    [\n",
    "        (t, x1),\n",
    "        (x1_.t, x1_.y[0])\n",
    "    ], (8, 5), [\"blue\", \"r--\"], [\"Analytical\", \"Numerical\"],\n",
    "    r\"$t$\", r\"$x(t)$\",\n",
    "    r\"(Analytical) Solution of First-Order Linear ODE with $q(t) = 0$\"\n",
    ")"
   ]
  },
  {
   "cell_type": "markdown",
   "metadata": {},
   "source": [
    "### Case 2: $p(t) = C$"
   ]
  },
  {
   "cell_type": "markdown",
   "metadata": {},
   "source": [
    "The equation is given by\n",
    "$$ \\frac{\\mathrm{d}x}{\\mathrm{d}t} + k\\cdot x = C $$\n",
    "\n",
    "The analytical solution for this given the initial condition $x(0) = x_0$ is:\n",
    "$$ x(t) = \\left(x_0 - \\frac{C}{k}\\right) \\exp(-kt)  + \\frac{C}{k}$$"
   ]
  },
  {
   "cell_type": "code",
   "execution_count": 160,
   "metadata": {},
   "outputs": [],
   "source": [
    "k = 1.0; C = 1.0\n",
    "def q2(t): return Constant(t, k)\n",
    "def p2(t): return Constant(t, C)\n",
    "\n",
    "# the derivative\n",
    "def Equation2(t, x):\n",
    "    return FirstODEGeneralEqn(x, t, q2, p2)\n",
    "\n",
    "# the analytical solution\n",
    "def Solution2(t, k, C, x0):\n",
    "    return np.exp(-k*t)*(x0 - C/k) + (C/k)"
   ]
  },
  {
   "cell_type": "code",
   "execution_count": 164,
   "metadata": {},
   "outputs": [],
   "source": [
    "# Calculating analytical solution\n",
    "tlims = (0, 10)\n",
    "Nt = 100\n",
    "t = np.linspace(*tlims, Nt)\n",
    "x0 = 2.0\n",
    "x2 = Solution2(t, k, C, x0)"
   ]
  },
  {
   "cell_type": "code",
   "execution_count": null,
   "metadata": {},
   "outputs": [],
   "source": [
    "Line1Plotter(\n",
    "    t, x2, (8, 5), \"b-\",\n",
    "    r\"$t$\", r\"$x(t)$\",\n",
    "    r\"(Analytical) Solution of First-Order Linear ODE with $q(t) = C$\"\n",
    ")"
   ]
  },
  {
   "cell_type": "code",
   "execution_count": 175,
   "metadata": {},
   "outputs": [
    {
     "data": {
      "application/vnd.jupyter.widget-view+json": {
       "model_id": "05ca7c03f470421ab120d07692586330",
       "version_major": 2,
       "version_minor": 0
      },
      "image/png": "[encoded data removed]",
      "text/html": [
       "\n",
       "            <div style=\"display: inline-block;\">\n",
       "                <div class=\"jupyter-widgets widget-label\" style=\"text-align: center;\">\n",
       "                    Figure\n",
       "                </div>\n",
       "                <img src='data:image/png;base64,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' width=800.0/>\n",
       "            </div>\n",
       "        "
      ],
      "text/plain": [
       "Canvas(toolbar=Toolbar(toolitems=[('Home', 'Reset original view', 'home', 'home'), ('Back', 'Back to previous …"
      ]
     },
     "metadata": {},
     "output_type": "display_data"
    }
   ],
   "source": [
    "InteractivePlotter(\n",
    "    np.linspace(0, 10, 100), Solution2,\n",
    "    [1.0, 1.0, 1.0], [(-1.0, 5.0), (-1.0, 5.0), (-4.0, 10.0)], [0.5, 0.5, 0.5], [r\"$k$\", r\"$C$\", r\"$x_0$\"],\n",
    "    \"blue\", [0, 10, -3, 3], (8, 5), r\"$t$\", r\"$x(t)$\",\n",
    "    r\"(Analytical) Solution of First-Order Linear ODE with $q(t) = C$\"\n",
    ")"
   ]
  },
  {
   "cell_type": "markdown",
   "metadata": {},
   "source": [
    "#### Numerical Solution"
   ]
  },
  {
   "cell_type": "code",
   "execution_count": 177,
   "metadata": {},
   "outputs": [],
   "source": [
    "x2_ = solve_ivp(Equation2, tlims, [x0], t_eval=t)"
   ]
  },
  {
   "cell_type": "code",
   "execution_count": null,
   "metadata": {},
   "outputs": [],
   "source": [
    "LineNPlotter(\n",
    "    [\n",
    "        (t, x2),\n",
    "        (x2_.t, x2_.y[0])\n",
    "    ], (8, 5), [\"blue\", \"r-.\"], [\"Analytical\", \"Numerical\"],\n",
    "    r\"$t$\", r\"$x(t)$\",\n",
    "    r\"(Analytical) Solution of First-Order Linear ODE with $q(t) = C$\"\n",
    ")"
   ]
  },
  {
   "cell_type": "markdown",
   "metadata": {},
   "source": [
    "### Case 3: $p(t) = m t$"
   ]
  },
  {
   "cell_type": "markdown",
   "metadata": {},
   "source": [
    "The equation is given by\n",
    "$$ \\frac{\\mathrm{d}x}{\\mathrm{d}t} + k\\cdot x = mt $$\n",
    "\n",
    "The analytical solution for this given the initial condition $x(0) = x_0$ is:\n",
    "$$ x(t) = \\left(x_0 + \\frac{m}{k^2}\\right) \\exp(-kt)  + \\frac{m}{k}(t - 1)$$"
   ]
  },
  {
   "cell_type": "code",
   "execution_count": 183,
   "metadata": {},
   "outputs": [],
   "source": [
    "k = 1.0; m = 1.0\n",
    "def q3(t): return Constant(t, k)\n",
    "def p3(t): return Linear(t, m)\n",
    "\n",
    "# the derivative\n",
    "def Equation3(t, x):\n",
    "    return FirstODEGeneralEqn(x, t, q3, p3)\n",
    "\n",
    "# the analytical solution\n",
    "def Solution3(t, k, m, x0):\n",
    "    return np.exp(-k*t)*(x0 + m/(k**2)) + (m/k)*(t-1)"
   ]
  },
  {
   "cell_type": "code",
   "execution_count": 186,
   "metadata": {},
   "outputs": [],
   "source": [
    "# Calculating analytical solution\n",
    "tlims = (0, 10)\n",
    "Nt = 100\n",
    "t = np.linspace(*tlims, Nt)\n",
    "x0 = 2.0\n",
    "x3 = Solution3(t, k, m, x0)"
   ]
  },
  {
   "cell_type": "code",
   "execution_count": null,
   "metadata": {},
   "outputs": [],
   "source": [
    "Line1Plotter(\n",
    "    t, x3, (8, 5), \"b-\",\n",
    "    r\"$t$\", r\"$x(t)$\",\n",
    "    r\"(Analytical) Solution of First-Order Linear ODE with $q(t) = mt$\"\n",
    ")"
   ]
  },
  {
   "cell_type": "code",
   "execution_count": 235,
   "metadata": {},
   "outputs": [
    {
     "data": {
      "application/vnd.jupyter.widget-view+json": {
       "model_id": "80776381ee2c42a4b38d1c21598aa9da",
       "version_major": 2,
       "version_minor": 0
      },
      "image/png": "[encoded data removed]",
      "text/html": [
       "\n",
       "            <div style=\"display: inline-block;\">\n",
       "                <div class=\"jupyter-widgets widget-label\" style=\"text-align: center;\">\n",
       "                    Figure\n",
       "                </div>\n",
       "                <img src='data:image/png;base64,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' width=800.0/>\n",
       "            </div>\n",
       "        "
      ],
      "text/plain": [
       "Canvas(toolbar=Toolbar(toolitems=[('Home', 'Reset original view', 'home', 'home'), ('Back', 'Back to previous …"
      ]
     },
     "metadata": {},
     "output_type": "display_data"
    }
   ],
   "source": [
    "# JUST DO IT\n",
    "x3_ = Solution3(t, k*2.8, m*2.75, x0*1.3)\n",
    "plt.close(\"all\")\n",
    "fig, ax = plt.subplots(figsize=(8, 5))\n",
    "ax.fill_between(t, x3, x3_, color=\"black\")\n",
    "\n",
    "ax.set_title(\n",
    "    r\"Just Do It\"\n",
    ")\n",
    "ax.set_xlim(0, 6)\n",
    "ax.set_ylim(0, 6)\n",
    "plt.xticks([])\n",
    "plt.yticks([])\n",
    "plt.gca().spines['top'].set_visible(False)\n",
    "plt.gca().spines['right'].set_visible(False)\n",
    "plt.gca().spines['bottom'].set_visible(False)\n",
    "plt.gca().spines['left'].set_visible(False)"
   ]
  },
  {
   "cell_type": "code",
   "execution_count": null,
   "metadata": {},
   "outputs": [],
   "source": [
    "InteractivePlotter(\n",
    "    np.linspace(0, 10, 100), Solution3,\n",
    "    [1.0, 1.0, 1.0], [(-1.0, 5.0), (-1.0, 5.0), (-4.0, 10.0)], [0.5, 0.5, 0.5], [r\"$k$\", r\"$m$\", r\"$x_0$\"],\n",
    "    \"blue\", [0, 10, 0, 6], (8, 5), r\"$t$\", r\"$x(t)$\",\n",
    "    r\"(Analytical) Solution of First-Order Linear ODE with $q(t) = mt$\"\n",
    ")"
   ]
  },
  {
   "cell_type": "markdown",
   "metadata": {},
   "source": [
    "#### Numerical Solution"
   ]
  },
  {
   "cell_type": "code",
   "execution_count": 227,
   "metadata": {},
   "outputs": [],
   "source": [
    "x3_ = solve_ivp(Equation3, tlims, [x0], t_eval=t)"
   ]
  },
  {
   "cell_type": "code",
   "execution_count": null,
   "metadata": {},
   "outputs": [],
   "source": [
    "LineNPlotter(\n",
    "    [\n",
    "        (t, x3),\n",
    "        (x3_.t, x3_.y[0])\n",
    "    ], (8, 5), [\"blue\", \"r-.\"], [\"Analytical\", \"Numerical\"],\n",
    "    r\"$t$\", r\"$x(t)$\",\n",
    "    r\"(Analytical) Solution of First-Order Linear ODE with $q(t) = mt$\"\n",
    ")"
   ]
  },
  {
   "cell_type": "markdown",
   "metadata": {},
   "source": [
    "### Case 4: $p(t) = A \\sin(\\omega t)$"
   ]
  },
  {
   "cell_type": "markdown",
   "metadata": {},
   "source": [
    "The equation is given by\n",
    "$$ \\frac{\\mathrm{d}x}{\\mathrm{d}t} + k\\cdot x = A \\sin(\\omega t)$$\n",
    "\n",
    "The analytical solution for this given the initial condition $x(0) = x_0$ is:\n",
    "$$ x(t) = \\left(x_0 + \\frac{A \\omega}{k^2 + \\omega^2}\\right) \\exp(-kt)  + \\frac{A}{k^2 + \\omega^2}(k \\sin(\\omega t) - \\omega \\cos(\\omega t))$$"
   ]
  },
  {
   "cell_type": "code",
   "execution_count": 258,
   "metadata": {},
   "outputs": [],
   "source": [
    "k = 0.5; A = 0.5; omega = 2.0\n",
    "def q4(t): return Constant(t, k)\n",
    "def p4(t): return Sinusoid(t, A, omega)\n",
    "\n",
    "# the derivative\n",
    "def Equation4(t, x):\n",
    "    return FirstODEGeneralEqn(x, t, q4, p4)\n",
    "\n",
    "# the analytical solution\n",
    "def Solution4(t, k, A, omega, x0):\n",
    "    return np.exp(-k*t)*(x0 + (A*omega)/(k**2 + omega**2)) + \\\n",
    "        (A/(k**2 + omega**2))*(k*np.sin(omega*t)-omega*np.cos(omega*t))"
   ]
  },
  {
   "cell_type": "code",
   "execution_count": 259,
   "metadata": {},
   "outputs": [],
   "source": [
    "# Calculating analytical solution\n",
    "tlims = (0, 20)\n",
    "Nt = 100\n",
    "t = np.linspace(*tlims, Nt)\n",
    "x0 = 2.0\n",
    "x4 = Solution4(t, k, A, omega, x0)"
   ]
  },
  {
   "cell_type": "code",
   "execution_count": null,
   "metadata": {},
   "outputs": [],
   "source": [
    "Line1Plotter(\n",
    "    t, x4, (8, 5), \"b-\",\n",
    "    r\"$t$\", r\"$x(t)$\",\n",
    "    r\"(Analytical) Solution of First-Order Linear ODE with $q(t) = A \\sin(\\omega t)$\"\n",
    ")"
   ]
  },
  {
   "cell_type": "code",
   "execution_count": null,
   "metadata": {},
   "outputs": [],
   "source": [
    "InteractivePlotter(\n",
    "    np.linspace(0, 20, 200), Solution4,\n",
    "    [0.5, 0.5, 2.0, 2.0], [(-1.0, 5.0), (0.0, 2.0), (0.5, 5.5), (-4.0, 10.0)],\n",
    "    [0.5, 0.1, 0.5, 0.5], [r\"$k$\", r\"$A$\", r\"$\\omega$\", r\"$x_0$\"],\n",
    "    \"blue\", [0, 20, -2, 6], (8, 5), r\"$t$\", r\"$x(t)$\",\n",
    "    r\"(Analytical) Solution of First-Order Linear ODE with $q(t) = A\\sin(\\omega t)$\"\n",
    ")"
   ]
  },
  {
   "cell_type": "markdown",
   "metadata": {},
   "source": [
    "#### Numerical Solution"
   ]
  },
  {
   "cell_type": "code",
   "execution_count": 265,
   "metadata": {},
   "outputs": [],
   "source": [
    "x4_ = solve_ivp(Equation4, tlims, [x0], t_eval=t)"
   ]
  },
  {
   "cell_type": "code",
   "execution_count": null,
   "metadata": {},
   "outputs": [],
   "source": [
    "LineNPlotter(\n",
    "    [\n",
    "        (t, x4),\n",
    "        (x4_.t, x4_.y[0])\n",
    "    ], (8, 5), [\"blue\", \"r-.\"], [\"Analytical\", \"Numerical\"],\n",
    "    r\"$t$\", r\"$x(t)$\",\n",
    "    r\"(Analytical) Solution of First-Order Linear ODE with $q(t) = A\\sin(\\omega t)$\"\n",
    ")"
   ]
  },
  {
   "cell_type": "markdown",
   "metadata": {},
   "source": [
    "## (Linear) Second-Order ODE"
   ]
  },
  {
   "cell_type": "markdown",
   "metadata": {},
   "source": [
    "The general form is given by:\n",
    "$$ \\frac{\\mathrm{d}^2 x}{\\mathrm{d}t^2} + s(t)\\cdot\\frac{\\mathrm{d}x}{\\mathrm{d}t} + u(t)\\cdot x = w(t) $$\n",
    "\n",
    "We will be studying the special case of homogenous equation ($w(t) = 0$), with the coefficients constants i.e. $s(t) = S$, $u(t) = U$ for some constants $S$ and $U$. Therefore the equation becomes:\n",
    "\n",
    "$$ \\frac{\\mathrm{d}^2 x}{\\mathrm{d}t^2} + S\\frac{\\mathrm{d}x}{\\mathrm{d}t} + U x = 0 $$\n",
    "\n",
    "Consider some $x(t) = \\exp(\\lambda t)$. Plugging this into the equation above gives:\n",
    "\n",
    "$$ \\lambda^2 + S \\lambda + U = 0 $$\n",
    "\n",
    "Solving this quadratic equation for $r$ gives us\n",
    "\n",
    "$$ \\lambda = \\frac{-S \\pm \\sqrt{S^2 -4U}}{2}$$\n",
    "\n",
    "This gives us the following cases based on the sign of $D = S^2 - 4U$:\n",
    "1. $D > 0 \\implies$ Real and distinct $\\lambda$'s: $\\lambda_1, \\lambda_2 \\in \\mathbb{R}$\n",
    "2. $D = 0 \\implies$ Real and equal $\\lambda$'s: $\\lambda_3 \\in \\mathbb{R}$\n",
    "4. $D < 0 \\implies$ Imaginary and conjugate pair $\\lambda$'s: $\\lambda_4, \\lambda_5 \\in \\mathbb{C}$ such that $\\bar{\\lambda}_4 = \\lambda_5$\n",
    "\n",
    "The three cases correspond to three different class of solutions"
   ]
  },
  {
   "cell_type": "code",
   "execution_count": 267,
   "metadata": {},
   "outputs": [],
   "source": [
    "# s, u, and w are callable functions\n",
    "def SecondODEGeneralEqn(x, xd, t, s, u, w):\n",
    "    return -s(t)*xd -u(t) * x + w(t)"
   ]
  },
  {
   "cell_type": "markdown",
   "metadata": {},
   "source": [
    "### Case 1: $S^2 - 4U > 0$"
   ]
  },
  {
   "cell_type": "markdown",
   "metadata": {},
   "source": [
    "For an initial condition $(x(0), \\dot{x}(0))=(x_0, v_0)$, and $\\lambda = \\lambda_1, \\lambda_2 \\in \\mathbb{R}$, the analytical solution for this case is given by\n",
    "\n",
    "$$ x(t) = \\left( \\frac{v_0 - \\lambda_2 x_0}{\\lambda_1 - \\lambda_2} \\right)\\exp(\\lambda_1 t) + \\left( \\frac{\\lambda_1 x_0 - v_0}{\\lambda_1 - \\lambda_2} \\right)\\exp(\\lambda_2 t)$$"
   ]
  },
  {
   "cell_type": "code",
   "execution_count": 305,
   "metadata": {},
   "outputs": [
    {
     "name": "stdout",
     "output_type": "stream",
     "text": [
      "l1=-0.3819660112501051, l2=-2.618033988749895\n"
     ]
    }
   ],
   "source": [
    "S = 3.0; U = 1.0; W = 0.0\n",
    "l1, l2 = (-S + np.sqrt(S**2 - 4*U))/2, (-S - np.sqrt(S**2 - 4*U))/2\n",
    "\n",
    "print(f\"l1={l1}, l2={l2}\")\n",
    "\n",
    "def s1(t): return Constant(t, S)\n",
    "def u1(t): return Constant(t, U)\n",
    "def w1(t): return Constant(t, W)\n",
    "\n",
    "# the derivative\n",
    "\n",
    "def SEquation1(t, X):\n",
    "    return SecondODEGeneralEqn(X[0], X[1], t, s1, u1, w1)\n",
    "\n",
    "# the analytical solution\n",
    "def SSolution1(t, l1, l2, x0, v0):\n",
    "    return np.exp(l1*t)*((v0 - l2*x0)/(l1 - l2)) + \\\n",
    "        np.exp(l2*t)*((l1*x0 - v0)/(l1 - l2))\n",
    "\n",
    "def SSolution1_(t, S, U, x0, v0):\n",
    "    l1, l2 = (-S + np.sqrt(S**2 - 4*U))/2, (-S - np.sqrt(S**2 - 4*U))/2\n",
    "    return np.exp(l1*t)*((v0 - l2*x0)/(l1 - l2)) + \\\n",
    "        np.exp(l2*t)*((l1*x0 - v0)/(l1 - l2))"
   ]
  },
  {
   "cell_type": "code",
   "execution_count": 308,
   "metadata": {},
   "outputs": [],
   "source": [
    "# Calculating analytical solution\n",
    "tlims = (0, 10)\n",
    "Nt = 100\n",
    "t = np.linspace(*tlims, Nt)\n",
    "x0 = 2.0; v0 = 1.0\n",
    "x5 = SSolution1_(t, S, U, x0, v0)"
   ]
  },
  {
   "cell_type": "code",
   "execution_count": null,
   "metadata": {},
   "outputs": [],
   "source": [
    "# Concise plotting\n",
    "Line1Plotter(\n",
    "    t, x5, (8, 5), \"b-\",\n",
    "    r\"$t$\", r\"$x(t)$\",\n",
    "    r\"(Analytical) Solution of Second-Order Linear ODE with $D > 0$\"\n",
    ")"
   ]
  },
  {
   "cell_type": "code",
   "execution_count": null,
   "metadata": {},
   "outputs": [],
   "source": [
    "InteractivePlotter(\n",
    "    np.linspace(0, 10, 100), SSolution1,\n",
    "    [l1, l2, 1.0, 1.0], #l1, l2, x0, v0\n",
    "    [(-2.0, 2.0), (-3.0, 2.0), (-2.0, 5.0), (-2.0, 5.0)],\n",
    "    [0.2, 0.2, 0.5, 0.5],\n",
    "    [r\"$\\lambda_1$\", r\"$\\lambda_2$\", r\"$x_0$\", r\"$v_0$\"],\n",
    "    \"blue\", [0, 10, -1, 5], (8, 5), r\"$t$\", r\"$x(t)$\",\n",
    "    r\"(Analytical) Solution of Second-Order Linear ODE with $D > 0$\"\n",
    ")"
   ]
  },
  {
   "cell_type": "markdown",
   "metadata": {},
   "source": [
    "### Case 1: $S^2 - 4U = 0$"
   ]
  },
  {
   "cell_type": "markdown",
   "metadata": {},
   "source": [
    "For an initial condition $(x(0), \\dot{x}(0))=(x_0, v_0)$, and $\\lambda = \\lambda_3 \\in \\mathbb{R}$, the analytical solution for this case is given by\n",
    "\n",
    "$$ x(t) = x_0 \\exp(\\lambda_3 t) + (v_0 - \\lambda_3 x_0) t \\exp(\\lambda_3 t)$$"
   ]
  },
  {
   "cell_type": "code",
   "execution_count": 326,
   "metadata": {},
   "outputs": [
    {
     "name": "stdout",
     "output_type": "stream",
     "text": [
      "l1=-2.0, l2=-2.0\n"
     ]
    }
   ],
   "source": [
    "S = 4.0; U = 4.0; W = 0.0\n",
    "l1, l2 = (-S + np.sqrt(S**2 - 4*U))/2, (-S - np.sqrt(S**2 - 4*U))/2\n",
    "if l1 == l2:\n",
    "    l3 = l1\n",
    "\n",
    "print(f\"l1={l1}, l2={l2}\")\n",
    "\n",
    "def s2(t): return Constant(t, S)\n",
    "def u2(t): return Constant(t, U)\n",
    "def w2(t): return Constant(t, W)\n",
    "\n",
    "# the derivative\n",
    "\n",
    "def SEquation2(t, X):\n",
    "    return SecondODEGeneralEqn(X[0], X[1], t, s2, u2, w2)\n",
    "\n",
    "# the analytical solution\n",
    "def SSolution2(t, l3, x0, v0):\n",
    "    return np.exp(l3*t)*x0 + (v0 - l3*x0)*t*np.exp(l3*t)\n",
    "\n",
    "def SSolution2_(t, S, U, x0, v0):\n",
    "    l3 = -S/2\n",
    "    return np.exp(l3*t)*x0 + (v0 - l3*x0)*t*np.exp(l3*t)"
   ]
  },
  {
   "cell_type": "code",
   "execution_count": 333,
   "metadata": {},
   "outputs": [],
   "source": [
    "# Calculating analytical solution\n",
    "tlims = (0, 10)\n",
    "Nt = 400\n",
    "t = np.linspace(*tlims, Nt)\n",
    "x0 = 2.0; v0 = 1.0\n",
    "x6 = SSolution2_(t, S, U, x0, v0)"
   ]
  },
  {
   "cell_type": "code",
   "execution_count": null,
   "metadata": {},
   "outputs": [],
   "source": [
    "Line1Plotter(\n",
    "    t, x6, (8, 5), \"b-\",\n",
    "    r\"$t$\", r\"$x(t)$\",\n",
    "    r\"(Analytical) Solution of Second-Order Linear ODE with $D = 0$\"\n",
    ")"
   ]
  },
  {
   "cell_type": "code",
   "execution_count": null,
   "metadata": {},
   "outputs": [],
   "source": [
    "InteractivePlotter(\n",
    "    np.linspace(0, 10, 100), SSolution2,\n",
    "    [l3, 1.0, 1.0], #l1, l2, x0, v0\n",
    "    [(-3.0, 2.0), (-2.0, 5.0), (-2.0, 5.0)],\n",
    "    [0.2, 0.5, 0.5],\n",
    "    [r\"$\\lambda_3$\", r\"$x_0$\", r\"$v_0$\"],\n",
    "    \"blue\", [0, 10, -1, 5], (8, 5), r\"$t$\", r\"$x(t)$\",\n",
    "    r\"(Analytical) Solution of Second-Order Linear ODE with $D = 0$\"\n",
    ")"
   ]
  },
  {
   "cell_type": "markdown",
   "metadata": {},
   "source": [
    "### Case 1: $S^2 - 4U < 0$"
   ]
  },
  {
   "cell_type": "markdown",
   "metadata": {},
   "source": [
    "For an initial condition $(x(0), \\dot{x}(0))=(x_0, v_0)$, and $\\lambda = \\lambda_4, \\lambda_5 \\in \\mathbb{C}$, the analytical solution for this case is given by\n",
    "\n",
    "$$ x(t) = \\exp(R t) \\left( x_0 \\cos(I t) + \\left[\\frac{v_0 - R x_0}{I}\\right] \\sin(I t) \\right) $$\n",
    "where $R = \\mathrm{Re}[\\lambda]$ and $I = \\mathrm{Im}[\\lambda]$"
   ]
  },
  {
   "cell_type": "code",
   "execution_count": 338,
   "metadata": {},
   "outputs": [
    {
     "name": "stdout",
     "output_type": "stream",
     "text": [
      "l4=(-1+1.7320508075688772j), l5=(-1-1.7320508075688772j)\n"
     ]
    }
   ],
   "source": [
    "S = 2.0\n",
    "U = 4.0\n",
    "W = 0.0\n",
    "l4, l5 = (-S + np.sqrt(complex(S**2 - 4*U)))/2, (-S - np.sqrt(complex(S**2 - 4*U)))/2\n",
    "if l4 == np.conjugate(l5):\n",
    "    R = l4.real\n",
    "    I = l4.imag\n",
    "\n",
    "print(f\"l4={l4}, l5={l5}\")\n",
    "\n",
    "def s3(t): return Constant(t, S)\n",
    "def u3(t): return Constant(t, U)\n",
    "def w3(t): return Constant(t, W)\n",
    "\n",
    "# the derivative\n",
    "def SEquation3(t, X):\n",
    "    return SecondODEGeneralEqn(X[0], X[1], t, s3, u3, w3)\n",
    "\n",
    "# the analytical solution\n",
    "def SSolution3(t, l4, l5, x0, v0):\n",
    "    R, I = l4.real, l4.imag\n",
    "    return np.exp(R*t)*(x0*np.cos(I*t) + ((v0-R*x0)/I)*np.sin(I*t))\n",
    "def SSolution3_(t, R, I, x0, v0):\n",
    "    return np.exp(R*t)*(x0*np.cos(I*t) + ((v0-R*x0)/I)*np.sin(I*t))"
   ]
  },
  {
   "cell_type": "code",
   "execution_count": 336,
   "metadata": {},
   "outputs": [],
   "source": [
    "# Calculating analytical solution\n",
    "tlims = (0, 10)\n",
    "Nt = 400\n",
    "t = np.linspace(*tlims, Nt)\n",
    "x0 = 2.0\n",
    "v0 = 1.0\n",
    "x7 = SSolution3(t, l4, l5, x0, v0)"
   ]
  },
  {
   "cell_type": "code",
   "execution_count": null,
   "metadata": {},
   "outputs": [],
   "source": [
    "Line1Plotter(\n",
    "    t, x7, (8, 5), \"b-\",\n",
    "    r\"$t$\", r\"$x(t)$\",\n",
    "    r\"(Analytical) Solution of Second-Order Linear ODE with $D < 0$\"\n",
    ")"
   ]
  },
  {
   "cell_type": "code",
   "execution_count": null,
   "metadata": {},
   "outputs": [],
   "source": [
    "InteractivePlotter(\n",
    "    np.linspace(0, 10, 100), SSolution3_,\n",
    "    [R, I, 1.0, 1.0],  # l1, l2, x0, v0\n",
    "    [(-3.0, 2.0), (-3.0, 2.0), (-2.0, 5.0), (-2.0, 5.0)],\n",
    "    [0.2, 0.2, 0.5, 0.5],\n",
    "    [r\"$\\mathrm{Re}[\\lambda]$\", r\"$\\mathrm{Im}[\\lambda]$\", r\"$x_0$\", r\"$v_0$\"],\n",
    "    \"blue\", [0, 10, -3, 5], (8, 5), r\"$t$\", r\"$x(t)$\",\n",
    "    r\"(Analytical) Solution of Second-Order Linear ODE with $D < 0$\"\n",
    ")"
   ]
  }
 ],
 "metadata": {
  "kernelspec": {
   "display_name": "Python 3",
   "language": "python",
   "name": "python3"
  },
  "language_info": {
   "codemirror_mode": {
    "name": "ipython",
    "version": 3
   },
   "file_extension": ".py",
   "mimetype": "text/x-python",
   "name": "python",
   "nbconvert_exporter": "python",
   "pygments_lexer": "ipython3",
   "version": "3.13.1"
  }
 },
 "nbformat": 4,
 "nbformat_minor": 2
}
